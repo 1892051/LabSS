{
 "cells": [
  {
   "cell_type": "code",
   "execution_count": 1,
   "metadata": {},
   "outputs": [],
   "source": [
    "import pandas as pd\n",
    "import numpy as np\n",
    "import matplotlib.pyplot as plt"
   ]
  },
  {
   "cell_type": "code",
   "execution_count": 3,
   "metadata": {},
   "outputs": [],
   "source": [
    "j=2\n",
    "\n",
    "df = pd.read_csv(\"scope_{}.csv\".format(j))"
   ]
  },
  {
   "cell_type": "code",
   "execution_count": 4,
   "metadata": {},
   "outputs": [
    {
     "data": {
      "text/html": [
       "<div>\n",
       "<style scoped>\n",
       "    .dataframe tbody tr th:only-of-type {\n",
       "        vertical-align: middle;\n",
       "    }\n",
       "\n",
       "    .dataframe tbody tr th {\n",
       "        vertical-align: top;\n",
       "    }\n",
       "\n",
       "    .dataframe thead th {\n",
       "        text-align: right;\n",
       "    }\n",
       "</style>\n",
       "<table border=\"1\" class=\"dataframe\">\n",
       "  <thead>\n",
       "    <tr style=\"text-align: right;\">\n",
       "      <th></th>\n",
       "      <th>x-axis</th>\n",
       "      <th>2</th>\n",
       "    </tr>\n",
       "  </thead>\n",
       "  <tbody>\n",
       "    <tr>\n",
       "      <th>0</th>\n",
       "      <td>second</td>\n",
       "      <td>Volt</td>\n",
       "    </tr>\n",
       "    <tr>\n",
       "      <th>1</th>\n",
       "      <td>-1.000000E+00</td>\n",
       "      <td>-7.915390E+00</td>\n",
       "    </tr>\n",
       "    <tr>\n",
       "      <th>2</th>\n",
       "      <td>-999.000E-03</td>\n",
       "      <td>-7.965641E+00</td>\n",
       "    </tr>\n",
       "    <tr>\n",
       "      <th>3</th>\n",
       "      <td>-998.000E-03</td>\n",
       "      <td>-7.955591E+00</td>\n",
       "    </tr>\n",
       "    <tr>\n",
       "      <th>4</th>\n",
       "      <td>-997.000E-03</td>\n",
       "      <td>-7.975691E+00</td>\n",
       "    </tr>\n",
       "    <tr>\n",
       "      <th>...</th>\n",
       "      <td>...</td>\n",
       "      <td>...</td>\n",
       "    </tr>\n",
       "    <tr>\n",
       "      <th>1996</th>\n",
       "      <td>+995.000E-03</td>\n",
       "      <td>-5.131470E+00</td>\n",
       "    </tr>\n",
       "    <tr>\n",
       "      <th>1997</th>\n",
       "      <td>+996.000E-03</td>\n",
       "      <td>-5.101319E+00</td>\n",
       "    </tr>\n",
       "    <tr>\n",
       "      <th>1998</th>\n",
       "      <td>+997.000E-03</td>\n",
       "      <td>-5.051068E+00</td>\n",
       "    </tr>\n",
       "    <tr>\n",
       "      <th>1999</th>\n",
       "      <td>+998.000E-03</td>\n",
       "      <td>-5.101319E+00</td>\n",
       "    </tr>\n",
       "    <tr>\n",
       "      <th>2000</th>\n",
       "      <td>+999.000E-03</td>\n",
       "      <td>-5.061118E+00</td>\n",
       "    </tr>\n",
       "  </tbody>\n",
       "</table>\n",
       "<p>2001 rows × 2 columns</p>\n",
       "</div>"
      ],
      "text/plain": [
       "             x-axis              2\n",
       "0            second           Volt\n",
       "1     -1.000000E+00  -7.915390E+00\n",
       "2      -999.000E-03  -7.965641E+00\n",
       "3      -998.000E-03  -7.955591E+00\n",
       "4      -997.000E-03  -7.975691E+00\n",
       "...             ...            ...\n",
       "1996   +995.000E-03  -5.131470E+00\n",
       "1997   +996.000E-03  -5.101319E+00\n",
       "1998   +997.000E-03  -5.051068E+00\n",
       "1999   +998.000E-03  -5.101319E+00\n",
       "2000   +999.000E-03  -5.061118E+00\n",
       "\n",
       "[2001 rows x 2 columns]"
      ]
     },
     "execution_count": 4,
     "metadata": {},
     "output_type": "execute_result"
    }
   ],
   "source": [
    "df"
   ]
  },
  {
   "cell_type": "code",
   "execution_count": 6,
   "metadata": {},
   "outputs": [
    {
     "data": {
      "image/png": "[encoded data removed]",
      "text/plain": [
       "<Figure size 432x288 with 1 Axes>"
      ]
     },
     "metadata": {
      "needs_background": "light"
     },
     "output_type": "display_data"
    }
   ],
   "source": [
    "j=2\n",
    "\n",
    "df = pd.read_csv(\"scope_{}.csv\".format(j))\n",
    "\n",
    "#v1 = []\n",
    "#for i in df[\"1\"][1:]:\n",
    "#    v1.append(float(i))\n",
    "#v1 = np.array(v1)\n",
    "\n",
    "v2 = []\n",
    "for i in df[\"2\"][1:]:\n",
    "    v2.append(float(i))\n",
    "v2 = np.array(v2)\n",
    "\n",
    "x =[]\n",
    "for i in df[\"x-axis\"][1:]:\n",
    "    x.append(float(i))\n",
    "x = np.array(x)\n",
    "\n",
    "#plt.plot(x, v1, color=\"yellow\", label=\"ingresso 1\")\n",
    "plt.plot(x, v2, color=\"green\", label=\"ingresso 2\")\n",
    "plt.xlabel(\"Tempo t (s)\")\n",
    "plt.ylabel(\"V (V)\")\n",
    "plt.grid()\n",
    "plt.legend()\n",
    "plt.title(\"Vista oscilloscopio\")\n",
    "plt.savefig(\"scope_{}.png\".format(j), dpi=150)"
   ]
  },
  {
   "cell_type": "code",
   "execution_count": null,
   "metadata": {},
   "outputs": [],
   "source": []
  }
 ],
 "metadata": {
  "interpreter": {
   "hash": "916dbcbb3f70747c44a77c7bcd40155683ae19c65e1c03b4aa3499c5328201f1"
  },
  "kernelspec": {
   "display_name": "Python 3.8.10 64-bit",
   "language": "python",
   "name": "python3"
  },
  "language_info": {
   "codemirror_mode": {
    "name": "ipython",
    "version": 3
   },
   "file_extension": ".py",
   "mimetype": "text/x-python",
   "name": "python",
   "nbconvert_exporter": "python",
   "pygments_lexer": "ipython3",
   "version": "3.8.10"
  },
  "orig_nbformat": 4
 },
 "nbformat": 4,
 "nbformat_minor": 2
}
