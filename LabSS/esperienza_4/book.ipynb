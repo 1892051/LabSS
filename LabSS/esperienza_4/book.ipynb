{
 "cells": [
  {
   "cell_type": "markdown",
   "metadata": {},
   "source": [
    "# Quarta esperienza"
   ]
  },
  {
   "cell_type": "markdown",
   "metadata": {},
   "source": [
    "## Import dipendenze"
   ]
  },
  {
   "cell_type": "code",
   "execution_count": 41,
   "metadata": {},
   "outputs": [],
   "source": [
    "import pandas as pd\n",
    "import numpy as np\n",
    "from matplotlib import pyplot as plt\n",
    "\n",
    "from scipy.optimize import curve_fit\n",
    "\n",
    "from mpl_toolkits.axes_grid1.inset_locator import zoomed_inset_axes\n",
    "from mpl_toolkits.axes_grid1.inset_locator import mark_inset\n",
    "import matplotlib.ticker as mticker\n",
    "\n",
    "import matplotlib as mpl\n",
    "mpl.rcParams['figure.dpi'] = 150"
   ]
  },
  {
   "cell_type": "markdown",
   "metadata": {},
   "source": [
    "## Misura dello slew rate"
   ]
  },
  {
   "cell_type": "code",
   "execution_count": 42,
   "metadata": {},
   "outputs": [],
   "source": [
    "V_i = 0.5\n",
    "nu = 50000\n",
    "Trise_10_90 =  1"
   ]
  },
  {
   "cell_type": "markdown",
   "metadata": {},
   "source": [
    "## Misura del GxBW"
   ]
  },
  {
   "cell_type": "code",
   "execution_count": 43,
   "metadata": {},
   "outputs": [
    {
     "name": "stdout",
     "output_type": "stream",
     "text": [
      "[ 10.  40. 160. 630.]\n",
      "[   880.   1210.   1680.   2340.   3240.   4490.   6230.   8650.  11990.\n",
      "  16640.  23080.  32010.  44400.  61580.  85420. 118490. 164360. 227980.\n",
      " 316230.]\n",
      "[ 560000. 1000000.]\n"
     ]
    }
   ],
   "source": [
    "# Frequenze suggerite:\n",
    "print(np.logspace(1,2.8, 4, base=10).round(-1))\n",
    "print(np.logspace(2.8,5.5, 20,base=10).round(-1)[1:])\n",
    "print(np.logspace(5.5, 6, 3,).round(-4)[1:])\n"
   ]
  },
  {
   "cell_type": "code",
   "execution_count": 44,
   "metadata": {},
   "outputs": [],
   "source": [
    "R = 1000\n",
    "R_primo = np.array([4700, 33000, 100000, 220000])"
   ]
  },
  {
   "cell_type": "code",
   "execution_count": 45,
   "metadata": {},
   "outputs": [],
   "source": [
    "nu=np.array([])\n",
    "\n",
    "V_in_1 = np.array([]) #circa 1V\n",
    "V_out_1 =np.array([])\n",
    "\n",
    "V_in_2 = np.array([]) #circa 0.1V\n",
    "V_out_2 =np.array([])\n",
    "\n",
    "V_in_3 = np.array([]) #circa 0.05V\n",
    "V_out_3 =np.array([])\n",
    "\n",
    "V_in_4 = np.array([]) #Circa 0.03V\n",
    "V_out_4 =np.array([])"
   ]
  },
  {
   "cell_type": "code",
   "execution_count": 46,
   "metadata": {},
   "outputs": [],
   "source": [
    "A_1, A_2, A_3, A_4 = V_out_1/V_in_1, V_out_2/V_in_2, V_out_3/V_in_3, V_out_4/V_in_4\n",
    "\n",
    "G_BW_1 = A_1*nu\n",
    "G_BW_2 = A_2*nu\n",
    "G_BW_3 = A_3*nu\n",
    "G_BW_4 = A_4*nu\n",
    "\n",
    "G_1, G_2, G_3, G_4 = 20*np.log10(A_1), 20*np.log10(A_2), 20*np.log10(A_3), 20*np.log10(A_4)"
   ]
  },
  {
   "cell_type": "code",
   "execution_count": 54,
   "metadata": {},
   "outputs": [],
   "source": [
    "sigmaV = lambda a: a*0.03\n",
    "sigmaNu = lambda a: a*0.03\n",
    "sigmaG = np.sqrt(2)*(3/5)/np.log(10)"
   ]
  },
  {
   "cell_type": "code",
   "execution_count": 53,
   "metadata": {},
   "outputs": [
    {
     "data": {
      "text/plain": [
       "Text(0, 0.5, 'Guadagno G (dB)')"
      ]
     },
     "execution_count": 53,
     "metadata": {},
     "output_type": "execute_result"
    },
    {
     "data": {
      "image/png": "[encoded data removed]",
      "text/plain": [
       "<Figure size 900x600 with 1 Axes>"
      ]
     },
     "metadata": {
      "needs_background": "light"
     },
     "output_type": "display_data"
    }
   ],
   "source": [
    "plt.errorbar(nu, G_1, sigmaG, color=\"orange\")\n",
    "plt.errorbar(nu, G_2, sigmaG, color=\"red\")\n",
    "plt.errorbar(nu, G_3, sigmaG, color=\"blue\")\n",
    "plt.errorbar(nu, G_4, sigmaG, color=\"green\")\n",
    "plt.xscale(\"log\")\n",
    "plt.title(\"Diagramma di Bode, guadagno\")\n",
    "plt.xlabel(\"Frequenza $\\\\nu$ (Hz)\")\n",
    "plt.ylabel(\"Guadagno G (dB)\")"
   ]
  },
  {
   "cell_type": "code",
   "execution_count": 55,
   "metadata": {},
   "outputs": [],
   "source": [
    "def tabmaker(l):\n",
    "    st = \"\"\n",
    "    for i in range(len(l[0][1])):\n",
    "        for j in range(len(l)):\n",
    "            col = l[j]\n",
    "            #print(col)\n",
    "            st+=\"${}\\pm{}$ & \".format(np.round(col[1][i], 4), np.round(col[0](col[1][i]), 2))\n",
    "        st += \" \\\\\\ \"\n",
    "    return st"
   ]
  },
  {
   "cell_type": "code",
   "execution_count": null,
   "metadata": {},
   "outputs": [],
   "source": []
  }
 ],
 "metadata": {
  "interpreter": {
   "hash": "31f2aee4e71d21fbe5cf8b01ff0e069b9275f58929596ceb00d14d90e3e16cd6"
  },
  "kernelspec": {
   "display_name": "Python 3.9.5 64-bit",
   "name": "python3"
  },
  "language_info": {
   "codemirror_mode": {
    "name": "ipython",
    "version": 3
   },
   "file_extension": ".py",
   "mimetype": "text/x-python",
   "name": "python",
   "nbconvert_exporter": "python",
   "pygments_lexer": "ipython3",
   "version": "3.9.7"
  },
  "orig_nbformat": 4
 },
 "nbformat": 4,
 "nbformat_minor": 2
}
