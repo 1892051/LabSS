{
 "cells": [
  {
   "cell_type": "markdown",
   "metadata": {},
   "source": [
    "# Quarta esperienza"
   ]
  },
  {
   "cell_type": "markdown",
   "metadata": {},
   "source": [
    "## Import dipendenze"
   ]
  },
  {
   "cell_type": "code",
   "execution_count": 71,
   "metadata": {},
   "outputs": [],
   "source": [
    "import pandas as pd\n",
    "import numpy as np\n",
    "from matplotlib import pyplot as plt\n",
    "\n",
    "from scipy.optimize import curve_fit\n",
    "\n",
    "from mpl_toolkits.axes_grid1.inset_locator import zoomed_inset_axes\n",
    "from mpl_toolkits.axes_grid1.inset_locator import mark_inset\n",
    "import matplotlib.ticker as mticker\n",
    "\n",
    "import matplotlib as mpl\n",
    "mpl.rcParams['figure.dpi'] = 150"
   ]
  },
  {
   "cell_type": "markdown",
   "metadata": {},
   "source": [
    "## Misura dello slew rate"
   ]
  },
  {
   "cell_type": "code",
   "execution_count": 72,
   "metadata": {},
   "outputs": [],
   "source": [
    "V_i = 1.25\n",
    "nu = 10000\n",
    "Dx = np.array([3.58,3.61,3.66,3.68]) #microsecondi\n",
    "sigmaDx = Dx*0.03\n",
    "sigmaDxMedio = np.sqrt(Dx.std(ddof=1)**2+(Dx.mean()*0.03)**2)/np.sqrt(len(Dx)-1)\n",
    "Trise_10_90 =  1/Dx.mean()"
   ]
  },
  {
   "cell_type": "code",
   "execution_count": 73,
   "metadata": {},
   "outputs": [
    {
     "data": {
      "text/plain": [
       "0.06823297661118284"
      ]
     },
     "execution_count": 73,
     "metadata": {},
     "output_type": "execute_result"
    }
   ],
   "source": [
    "sigmaDxMedio"
   ]
  },
  {
   "cell_type": "code",
   "execution_count": 74,
   "metadata": {},
   "outputs": [
    {
     "data": {
      "text/plain": [
       "0.27529249827942187"
      ]
     },
     "execution_count": 74,
     "metadata": {},
     "output_type": "execute_result"
    }
   ],
   "source": [
    "Trise_10_90"
   ]
  },
  {
   "cell_type": "code",
   "execution_count": 75,
   "metadata": {},
   "outputs": [],
   "source": [
    "sigmaTrise = np.sqrt( (sigmaDxMedio/Dx.mean())**2 + (0.03*np.sqrt(2))**2 )*Trise_10_90"
   ]
  },
  {
   "cell_type": "code",
   "execution_count": 76,
   "metadata": {},
   "outputs": [
    {
     "data": {
      "text/plain": [
       "0.012773214910559579"
      ]
     },
     "execution_count": 76,
     "metadata": {},
     "output_type": "execute_result"
    }
   ],
   "source": [
    "sigmaTrise"
   ]
  },
  {
   "cell_type": "markdown",
   "metadata": {},
   "source": [
    "## Misura del GxBW"
   ]
  },
  {
   "cell_type": "code",
   "execution_count": 77,
   "metadata": {},
   "outputs": [
    {
     "name": "stdout",
     "output_type": "stream",
     "text": [
      "[ 10.  40. 160. 630.]\n",
      "[   880.   1210.   1680.   2340.   3240.   4490.   6230.   8650.  11990.\n",
      "  16640.  23080.  32010.  44400.  61580.  85420. 118490. 164360. 227980.\n",
      " 316230.]\n",
      "[ 560000. 1000000.]\n"
     ]
    }
   ],
   "source": [
    "# Frequenze suggerite:\n",
    "print(np.logspace(1,2.8, 4, base=10).round(-1))\n",
    "print(np.logspace(2.8,5.5, 20,base=10).round(-1)[1:])\n",
    "print(np.logspace(5.5, 6, 3,).round(-4)[1:])\n"
   ]
  },
  {
   "cell_type": "code",
   "execution_count": 78,
   "metadata": {},
   "outputs": [],
   "source": [
    "R = 1000\n",
    "R_primo = np.array([4700, 33000, 100000, 220000])"
   ]
  },
  {
   "cell_type": "code",
   "execution_count": 79,
   "metadata": {},
   "outputs": [
    {
     "name": "stdout",
     "output_type": "stream",
     "text": [
      "25\n",
      "25\n",
      "25\n",
      "25\n",
      "25\n",
      "25\n",
      "25\n",
      "25\n",
      "25\n"
     ]
    }
   ],
   "source": [
    "nu=np.array([9.01,40.64,160.5,630,888,1210,1688,2300,3240,4470,6350,8650,12300,16560,22950,31900,44200,61501,85500,118900,163900,227000,318900,556000,1000000])\n",
    "\n",
    "V_in_1 = np.array([261,261,263,262,261,263,262,263,265,263,75.2,75.2,75.2,75.2,75.2,75.2,74.8,74.8,75.4,75.6,76.8,77.2,77.2,77.2,77.2])*1e-3 #circa 1V\n",
    "V_out_1 =np.array([1.2, 1.27,1.21,1.29,1.31,1.21,1.21,1.21,1.21,1.21,0.358,0.350,0.350,0.346,0.344,0.338,0.330,0.318,0.292,0.261,0.221,0.179,0.133,0.0776,0.0422])\n",
    "\n",
    "V_in_2 = np.array([261,261,263,263,262,262,263,263,264,263,75,75.2,75.2,75.4,75.4,76,76.2,76.8,77,77.2,78,77.6,77.6,77.6,77.2])*1e-3 #circa 0.1V\n",
    "V_out_2 =np.array([3.84,3.82,3.8,3.8,3.86,3.8,3.8,3.8,3.79,3.78,1.09,1.07,1.05,1.03,0.975,0.895,0.775,0.647,0.509,0.380,0.287,0.211,0.148,0.084,0.0454])\n",
    "\n",
    "V_in_3 = np.array([261,262,263,262,263,262,262,264,264,264,75.4,76,76.4,77,77.4,77.8,77.6,77.6,77.8,77.8,77.6,77.6,77.2,77.2,77.2])*1e-3 #circa 0.05V\n",
    "V_out_3 =np.array([12.1,12.1,12.1,12.1,12.1,12.1,12,12,11.7,11.4,3.2,3.03,2.69,2.33,1.91,1.42,1.07,0.780,0.575,0.420,0.302,0.219,0.154,0.088,0.0454])\n",
    "\n",
    "V_in_4 = np.array([262,262,262,263,263,263,264,265,267,270,76.4,77.4,77.8,77.8,78.2,77.8,77.8,78,78,77.8,78,77.6,77.6,77.6,77.2])*1e-3 #Circa 0.03V\n",
    "V_out_4 =np.array([26,26,26.2,25.9,25.9,25.6,25.3,24.5,22.7,20.6,5.51,4.7,3.7,2.83,2.14,1.52,1.12,0.805,0.583,0.424,0.304,0.223,0.155,0.088,0.0452])\n",
    "\n",
    "print(len(nu))\n",
    "print(len(V_out_1))\n",
    "print(len(V_in_1))\n",
    "print(len(V_out_2))\n",
    "print(len(V_in_2))\n",
    "print(len(V_out_3))\n",
    "print(len(V_in_3))\n",
    "print(len(V_out_4))\n",
    "print(len(V_in_4))\n"
   ]
  },
  {
   "cell_type": "code",
   "execution_count": 80,
   "metadata": {},
   "outputs": [],
   "source": [
    "A_1, A_2, A_3, A_4 = V_out_1/V_in_1, V_out_2/V_in_2, V_out_3/V_in_3, V_out_4/V_in_4\n",
    "\n",
    "G_1, G_2, G_3, G_4 = 20*np.log10(A_1), 20*np.log10(A_2), 20*np.log10(A_3), 20*np.log10(A_4)"
   ]
  },
  {
   "cell_type": "code",
   "execution_count": 81,
   "metadata": {},
   "outputs": [],
   "source": [
    "sigmaV = lambda a: a*0.03\n",
    "sigmaNu = lambda a: a*0.03\n",
    "sigmaG = np.sqrt(2)*(3/5)/np.log(10)\n",
    "sigma_G = lambda a: sigmaG"
   ]
  },
  {
   "cell_type": "code",
   "execution_count": 82,
   "metadata": {},
   "outputs": [],
   "source": [
    "def retta(x,m,c):\n",
    "    return m*x+c"
   ]
  },
  {
   "cell_type": "code",
   "execution_count": 125,
   "metadata": {},
   "outputs": [],
   "source": [
    "def nu_c_Finder(popt, cov, G):\n",
    "    nu = (G[0:5].mean()-3-popt[1])/popt[0]\n",
    "    sigma_YsuM = np.sqrt(\n",
    "        (sigmaG/(G[0:5].mean()-3))**2 +\n",
    "        cov[0][0]/(popt[0])**2\n",
    "    ) * ((G[0:5].mean()-3)/popt[0])\n",
    "    sigma_CsuM = np.sqrt(\n",
    "        cov[1][1]/(popt[1])**2 +\n",
    "        cov[0][0]/(popt[0])**2\n",
    "    ) * (popt[1]/popt[0])\n",
    "    sigma_nu = np.sqrt(\n",
    "        (sigma_YsuM)**2 +\n",
    "        (sigma_CsuM)**2\n",
    "    )\n",
    "    return [nu, sigma_nu/np.sqrt(4*len(G)**2)]"
   ]
  },
  {
   "cell_type": "code",
   "execution_count": 144,
   "metadata": {},
   "outputs": [
    {
     "data": {
      "image/png": "[encoded data removed]",
      "text/plain": [
       "<Figure size 900x600 with 1 Axes>"
      ]
     },
     "metadata": {
      "needs_background": "light"
     },
     "output_type": "display_data"
    }
   ],
   "source": [
    "plt.errorbar(nu, G_1, sigmaG, color=\"orange\", linestyle=\"\")\n",
    "plt.axhline(G_1[0:5].mean()-3, color=\"orange\", alpha=0.3)\n",
    "a_1, b_1 = 19, 21\n",
    "popt_1, cov_1 = curve_fit(retta, nu[a_1:b_1], G_1[a_1:b_1], absolute_sigma=sigmaG)\n",
    "x_1 = np.linspace(nu[a_1], nu[b_1], 50)\n",
    "plt.plot(x_1, popt_1[0]*x_1 + popt_1[1], color=\"orange\", alpha=0.5)\n",
    "plt.scatter(nu_c_Finder(popt_1, cov_1, G_1)[0], G_1[0:5].mean()-3, marker=\"x\", color=\"orange\", label=\"$\\\\nu_C=({}\\pm{})kHz$\".format(\n",
    "    (nu_c_Finder(popt_1, cov_1, G_1)[0]/1000).round(1),\n",
    "    (nu_c_Finder(popt_1, cov_1, G_1)[1]/1000).round(1)))\n",
    "\n",
    "plt.errorbar(nu, G_2, sigmaG, color=\"red\", linestyle=\"\")\n",
    "plt.axhline(G_2[0:5].mean()-3, color=\"red\", alpha=0.3)\n",
    "a_2, b_2 = 16, 18\n",
    "popt_2, cov_2 = curve_fit(retta, nu[a_2:b_2], G_2[a_2:b_2], absolute_sigma=sigmaG)\n",
    "x_2 = np.linspace(nu[a_2]-5000, nu[b_2], 50)\n",
    "plt.plot(x_2, popt_2[0]*x_2 + popt_2[1], color=\"red\", alpha=0.5)\n",
    "plt.scatter(nu_c_Finder(popt_2, cov_2, G_2)[0], G_2[0:5].mean()-3, marker=\"x\", color=\"red\", label=\"$\\\\nu_C=({}\\pm{})kHz$\".format(\n",
    "    (nu_c_Finder(popt_2, cov_2, G_2)[0]/1000).round(1),\n",
    "    (nu_c_Finder(popt_2, cov_2, G_2)[1]/1000).round(1)))\n",
    "\n",
    "plt.errorbar(nu, G_3, sigmaG, color=\"blue\", linestyle=\"\")\n",
    "plt.axhline(G_3[0:5].mean()-3, color=\"blue\", alpha=0.3)\n",
    "a_3, b_3 = 12, 14\n",
    "popt_3, cov_3 = curve_fit(retta, nu[a_3:b_3], G_3[a_3:b_3], absolute_sigma=sigmaG)\n",
    "x_3 = np.linspace(nu[a_3], nu[b_3], 50)\n",
    "plt.plot(x_3, popt_3[0]*x_3 + popt_3[1], color=\"blue\", alpha=0.5)\n",
    "plt.scatter(nu_c_Finder(popt_3, cov_3, G_3)[0], G_3[0:5].mean()-3, marker=\"x\", color=\"blue\", label=\"$\\\\nu_C=({}\\pm{})kHz$\".format(\n",
    "    (nu_c_Finder(popt_3, cov_3, G_3)[0]/1000).round(1),\n",
    "    (nu_c_Finder(popt_3, cov_3, G_3)[1]/1000).round(1)))\n",
    "\n",
    "plt.errorbar(nu, G_4, sigmaG, color=\"green\", linestyle=\"\", label=\"Dati per $ A_V={}\\pm{} $\".format(A_4[0:5].mean().round(1), (A_4[0:5].mean()*np.sqrt(2)*0.03).round(1)))\n",
    "plt.axhline(G_4[0:5].mean()-3, color=\"green\", alpha=0.3)\n",
    "a_4, b_4 = 10, 12\n",
    "popt_4, cov_4 = curve_fit(retta, nu[a_4:b_4], G_4[a_4:b_4], absolute_sigma=sigmaG)\n",
    "x_4 = np.linspace(nu[a_4], nu[b_4], 50)\n",
    "plt.plot(x_4, popt_4[0]*x_4 + popt_4[1], color=\"green\", alpha=0.5)\n",
    "plt.scatter(nu_c_Finder(popt_4, cov_4, G_4)[0], G_4[0:5].mean()-3, marker=\"x\", color=\"green\", label=\"$\\\\nu_C=({}\\pm{})kHz$\".format(\n",
    "    (nu_c_Finder(popt_4, cov_4, G_4)[0]/1000).round(1),\n",
    "    (nu_c_Finder(popt_4, cov_4, G_4)[1]/1000).round(1)))\n",
    "\n",
    "plt.ylim(-15,45)\n",
    "plt.xscale(\"log\")\n",
    "plt.title(\"Diagramma di Bode, guadagno\")\n",
    "plt.xlabel(\"Frequenza $\\\\nu$ (Hz)\")\n",
    "plt.ylabel(\"Guadagno G (dB)\")\n",
    "plt.legend()\n",
    "plt.savefig(\"GxBW.png\", dpi=300)\n",
    "#plt.axhline(0)\n",
    "#plt.axvline(600000)"
   ]
  },
  {
   "cell_type": "code",
   "execution_count": 85,
   "metadata": {},
   "outputs": [],
   "source": [
    "GxBW_1 = nu_c_Finder(popt_1, G_1)*A_1[0:5].mean()\n",
    "GxBW_2 = nu_c_Finder(popt_2, G_2)*A_2[0:5].mean()\n",
    "GxBW_3 = nu_c_Finder(popt_3, G_3)*A_3[0:5].mean()\n",
    "GxBW_4 = nu_c_Finder(popt_4, G_4)*A_4[0:5].mean()"
   ]
  },
  {
   "cell_type": "code",
   "execution_count": 108,
   "metadata": {},
   "outputs": [
    {
     "data": {
      "text/plain": [
       "636187.1233062594"
      ]
     },
     "execution_count": 108,
     "metadata": {},
     "output_type": "execute_result"
    }
   ],
   "source": [
    "np.array([GxBW_1,GxBW_2,GxBW_3,GxBW_4]).mean()"
   ]
  },
  {
   "cell_type": "code",
   "execution_count": 120,
   "metadata": {},
   "outputs": [
    {
     "name": "stdout",
     "output_type": "stream",
     "text": [
      "-105371.6158970779\n",
      "-121858.50204366125\n"
     ]
    },
    {
     "data": {
      "text/plain": [
       "[14404.593327266948, 3221.9666017565305]"
      ]
     },
     "execution_count": 120,
     "metadata": {},
     "output_type": "execute_result"
    }
   ],
   "source": [
    "nu_c_Finder(popt_3, cov_3, G_3)"
   ]
  },
  {
   "cell_type": "code",
   "execution_count": 88,
   "metadata": {},
   "outputs": [],
   "source": [
    "def tabmaker(l):\n",
    "    st = \"\"\n",
    "    for i in range(len(l[0][1])):\n",
    "        for j in range(len(l)):\n",
    "            col = l[j]\n",
    "            #print(col)\n",
    "            st+=\"${}\\pm{}$ & \".format(np.round(col[1][i], 4), np.round(col[0](col[1][i]), 2))\n",
    "        st += \" \\\\\\ \"\n",
    "    return st"
   ]
  },
  {
   "cell_type": "code",
   "execution_count": 89,
   "metadata": {},
   "outputs": [
    {
     "name": "stdout",
     "output_type": "stream",
     "text": [
      "$9.01\\pm0.27$ & $261.0\\pm7.83$ & $1200.0\\pm36.0$ & $13.2508\\pm0.37$ & $261.0\\pm7.83$ & $3840.0\\pm115.2$ & $23.3538\\pm0.37$ & $261.0\\pm7.83$ & $12100.0\\pm363.0$ & $33.3229\\pm0.37$ & $262.0\\pm7.86$ & $26000.0\\pm780.0$ & $39.9334\\pm0.37$ &  \\\\ $40.64\\pm1.22$ & $261.0\\pm7.83$ & $1270.0\\pm38.1$ & $13.7433\\pm0.37$ & $261.0\\pm7.83$ & $3820.0\\pm114.6$ & $23.3085\\pm0.37$ & $262.0\\pm7.86$ & $12100.0\\pm363.0$ & $33.2897\\pm0.37$ & $262.0\\pm7.86$ & $26000.0\\pm780.0$ & $39.9334\\pm0.37$ &  \\\\ $160.5\\pm4.81$ & $263.0\\pm7.89$ & $1210.0\\pm36.3$ & $13.2566\\pm0.37$ & $263.0\\pm7.89$ & $3800.0\\pm114.0$ & $23.1966\\pm0.37$ & $263.0\\pm7.89$ & $12100.0\\pm363.0$ & $33.2566\\pm0.37$ & $262.0\\pm7.86$ & $26200.0\\pm786.0$ & $40.0\\pm0.37$ &  \\\\ $630.0\\pm18.9$ & $262.0\\pm7.86$ & $1290.0\\pm38.7$ & $13.8458\\pm0.37$ & $263.0\\pm7.89$ & $3800.0\\pm114.0$ & $23.1966\\pm0.37$ & $262.0\\pm7.86$ & $12100.0\\pm363.0$ & $33.2897\\pm0.37$ & $263.0\\pm7.89$ & $25900.0\\pm777.0$ & $39.8669\\pm0.37$ &  \\\\ $888.0\\pm26.64$ & $261.0\\pm7.83$ & $1310.0\\pm39.3$ & $14.0126\\pm0.37$ & $262.0\\pm7.86$ & $3860.0\\pm115.8$ & $23.3657\\pm0.37$ & $263.0\\pm7.89$ & $12100.0\\pm363.0$ & $33.2566\\pm0.37$ & $263.0\\pm7.89$ & $25900.0\\pm777.0$ & $39.8669\\pm0.37$ &  \\\\ $1210.0\\pm36.3$ & $263.0\\pm7.89$ & $1210.0\\pm36.3$ & $13.2566\\pm0.37$ & $262.0\\pm7.86$ & $3800.0\\pm114.0$ & $23.2296\\pm0.37$ & $262.0\\pm7.86$ & $12100.0\\pm363.0$ & $33.2897\\pm0.37$ & $263.0\\pm7.89$ & $25600.0\\pm768.0$ & $39.7657\\pm0.37$ &  \\\\ $1688.0\\pm50.64$ & $262.0\\pm7.86$ & $1210.0\\pm36.3$ & $13.2897\\pm0.37$ & $263.0\\pm7.89$ & $3800.0\\pm114.0$ & $23.1966\\pm0.37$ & $262.0\\pm7.86$ & $12000.0\\pm360.0$ & $33.2176\\pm0.37$ & $264.0\\pm7.92$ & $25300.0\\pm759.0$ & $39.6303\\pm0.37$ &  \\\\ $2300.0\\pm69.0$ & $263.0\\pm7.89$ & $1210.0\\pm36.3$ & $13.2566\\pm0.37$ & $263.0\\pm7.89$ & $3800.0\\pm114.0$ & $23.1966\\pm0.37$ & $264.0\\pm7.92$ & $12000.0\\pm360.0$ & $33.1515\\pm0.37$ & $265.0\\pm7.95$ & $24500.0\\pm735.0$ & $39.3184\\pm0.37$ &  \\\\ $3240.0\\pm97.2$ & $265.0\\pm7.95$ & $1210.0\\pm36.3$ & $13.1908\\pm0.37$ & $264.0\\pm7.92$ & $3790.0\\pm113.7$ & $23.1407\\pm0.37$ & $264.0\\pm7.92$ & $11700.0\\pm351.0$ & $32.9316\\pm0.37$ & $267.0\\pm8.01$ & $22700.0\\pm681.0$ & $38.5903\\pm0.37$ &  \\\\ $4470.0\\pm134.1$ & $263.0\\pm7.89$ & $1210.0\\pm36.3$ & $13.2566\\pm0.37$ & $263.0\\pm7.89$ & $3780.0\\pm113.4$ & $23.1507\\pm0.37$ & $264.0\\pm7.92$ & $11400.0\\pm342.0$ & $32.706\\pm0.37$ & $270.0\\pm8.1$ & $20600.0\\pm618.0$ & $37.6501\\pm0.37$ &  \\\\ $6350.0\\pm190.5$ & $75.2\\pm2.26$ & $358.0\\pm10.74$ & $13.5533\\pm0.37$ & $75.0\\pm2.25$ & $1090.0\\pm32.7$ & $23.2473\\pm0.37$ & $75.4\\pm2.26$ & $3200.0\\pm96.0$ & $32.5556\\pm0.37$ & $76.4\\pm2.29$ & $5510.0\\pm165.3$ & $37.1612\\pm0.37$ &  \\\\ $8650.0\\pm259.5$ & $75.2\\pm2.26$ & $350.0\\pm10.5$ & $13.357\\pm0.37$ & $75.2\\pm2.26$ & $1070.0\\pm32.1$ & $23.0633\\pm0.37$ & $76.0\\pm2.28$ & $3030.0\\pm90.9$ & $32.0126\\pm0.37$ & $77.4\\pm2.32$ & $4700.0\\pm141.0$ & $35.6671\\pm0.37$ &  \\\\ $12300.0\\pm369.0$ & $75.2\\pm2.26$ & $350.0\\pm10.5$ & $13.357\\pm0.37$ & $75.2\\pm2.26$ & $1050.0\\pm31.5$ & $22.8994\\pm0.37$ & $76.4\\pm2.29$ & $2690.0\\pm80.7$ & $30.9332\\pm0.37$ & $77.8\\pm2.33$ & $3700.0\\pm111.0$ & $33.5444\\pm0.37$ &  \\\\ $16560.0\\pm496.8$ & $75.2\\pm2.26$ & $346.0\\pm10.38$ & $13.2572\\pm0.37$ & $75.4\\pm2.26$ & $1030.0\\pm30.9$ & $22.7093\\pm0.37$ & $77.0\\pm2.31$ & $2330.0\\pm69.9$ & $29.6173\\pm0.37$ & $77.8\\pm2.33$ & $2830.0\\pm84.9$ & $31.2161\\pm0.37$ &  \\\\ $22950.0\\pm688.5$ & $75.2\\pm2.26$ & $344.0\\pm10.32$ & $13.2068\\pm0.37$ & $75.4\\pm2.26$ & $975.0\\pm29.25$ & $22.2327\\pm0.37$ & $77.4\\pm2.32$ & $1910.0\\pm57.3$ & $27.8458\\pm0.37$ & $78.2\\pm2.35$ & $2140.0\\pm64.2$ & $28.7441\\pm0.37$ &  \\\\ $31900.0\\pm957.0$ & $75.2\\pm2.26$ & $338.0\\pm10.14$ & $13.054\\pm0.37$ & $76.0\\pm2.28$ & $895.0\\pm26.85$ & $21.4202\\pm0.37$ & $77.8\\pm2.33$ & $1420.0\\pm42.6$ & $25.2262\\pm0.37$ & $77.8\\pm2.33$ & $1520.0\\pm45.6$ & $25.8173\\pm0.37$ &  \\\\ $44200.0\\pm1326.0$ & $74.8\\pm2.24$ & $330.0\\pm9.9$ & $12.8922\\pm0.37$ & $76.2\\pm2.29$ & $775.0\\pm23.25$ & $20.1469\\pm0.37$ & $77.6\\pm2.33$ & $1070.0\\pm32.1$ & $22.7904\\pm0.37$ & $77.8\\pm2.33$ & $1120.0\\pm33.6$ & $23.1648\\pm0.37$ &  \\\\ $61501.0\\pm1845.03$ & $74.8\\pm2.24$ & $318.0\\pm9.54$ & $12.5705\\pm0.37$ & $76.8\\pm2.3$ & $647.0\\pm19.41$ & $18.5109\\pm0.37$ & $77.6\\pm2.33$ & $780.0\\pm23.4$ & $20.0447\\pm0.37$ & $78.0\\pm2.34$ & $805.0\\pm24.15$ & $20.274\\pm0.37$ &  \\\\ $85500.0\\pm2565.0$ & $75.4\\pm2.26$ & $292.0\\pm8.76$ & $11.7602\\pm0.37$ & $77.0\\pm2.31$ & $509.0\\pm15.27$ & $16.4045\\pm0.37$ & $77.8\\pm2.33$ & $575.0\\pm17.25$ & $17.3738\\pm0.37$ & $78.0\\pm2.34$ & $583.0\\pm17.49$ & $17.4715\\pm0.37$ &  \\\\ $118900.0\\pm3567.0$ & $75.6\\pm2.27$ & $261.0\\pm7.83$ & $10.7624\\pm0.37$ & $77.2\\pm2.32$ & $380.0\\pm11.4$ & $13.8433\\pm0.37$ & $77.8\\pm2.33$ & $420.0\\pm12.6$ & $14.6454\\pm0.37$ & $77.8\\pm2.33$ & $424.0\\pm12.72$ & $14.7277\\pm0.37$ &  \\\\ $163900.0\\pm4917.0$ & $76.8\\pm2.3$ & $221.0\\pm6.63$ & $9.1806\\pm0.37$ & $78.0\\pm2.34$ & $287.0\\pm8.61$ & $11.3157\\pm0.37$ & $77.6\\pm2.33$ & $302.0\\pm9.06$ & $11.8029\\pm0.37$ & $78.0\\pm2.34$ & $304.0\\pm9.12$ & $11.8156\\pm0.37$ &  \\\\ $227000.0\\pm6810.0$ & $77.2\\pm2.32$ & $179.0\\pm5.37$ & $7.3047\\pm0.37$ & $77.6\\pm2.33$ & $211.0\\pm6.33$ & $8.6884\\pm0.37$ & $77.6\\pm2.33$ & $219.0\\pm6.57$ & $9.0116\\pm0.37$ & $77.6\\pm2.33$ & $223.0\\pm6.69$ & $9.1689\\pm0.37$ &  \\\\ $318900.0\\pm9567.0$ & $77.2\\pm2.32$ & $133.0\\pm3.99$ & $4.7247\\pm0.37$ & $77.6\\pm2.33$ & $148.0\\pm4.44$ & $5.608\\pm0.37$ & $77.2\\pm2.32$ & $154.0\\pm4.62$ & $5.9981\\pm0.37$ & $77.6\\pm2.33$ & $155.0\\pm4.65$ & $6.0094\\pm0.37$ &  \\\\ $556000.0\\pm16680.0$ & $77.2\\pm2.32$ & $77.6\\pm2.33$ & $0.0449\\pm0.37$ & $77.6\\pm2.33$ & $84.0\\pm2.52$ & $0.6884\\pm0.37$ & $77.2\\pm2.32$ & $88.0\\pm2.64$ & $1.1373\\pm0.37$ & $77.6\\pm2.33$ & $88.0\\pm2.64$ & $1.0924\\pm0.37$ &  \\\\ $1000000.0\\pm30000.0$ & $77.2\\pm2.32$ & $42.2\\pm1.27$ & $-5.2461\\pm0.37$ & $77.2\\pm2.32$ & $45.4\\pm1.36$ & $-4.6112\\pm0.37$ & $77.2\\pm2.32$ & $45.4\\pm1.36$ & $-4.6112\\pm0.37$ & $77.2\\pm2.32$ & $45.2\\pm1.36$ & $-4.6496\\pm0.37$ &  \\\\ \n"
     ]
    }
   ],
   "source": [
    "print(tabmaker([(sigmaNu, nu), (sigmaV, V_in_1*10**3), (sigmaV, V_out_1*10**3), (sigma_G, G_1), \\\n",
    "    (sigmaV, V_in_2*10**3), (sigmaV, V_out_2*10**3), (sigma_G, G_2), \\\n",
    "    (sigmaV, V_in_3*10**3), (sigmaV, V_out_3*10**3), (sigma_G, G_3), \\\n",
    "    (sigmaV, V_in_4*10**3), (sigmaV, V_out_4*10**3), (sigma_G, G_4)]))"
   ]
  },
  {
   "cell_type": "code",
   "execution_count": 90,
   "metadata": {},
   "outputs": [
    {
     "data": {
      "text/plain": [
       "True"
      ]
     },
     "execution_count": 90,
     "metadata": {},
     "output_type": "execute_result"
    }
   ],
   "source": [
    "len(np.ones(len(G_1))*sigmaG) == len(G_1)"
   ]
  }
 ],
 "metadata": {
  "interpreter": {
   "hash": "31f2aee4e71d21fbe5cf8b01ff0e069b9275f58929596ceb00d14d90e3e16cd6"
  },
  "kernelspec": {
   "display_name": "Python 3.8.10 64-bit",
   "name": "python3"
  },
  "language_info": {
   "codemirror_mode": {
    "name": "ipython",
    "version": 3
   },
   "file_extension": ".py",
   "mimetype": "text/x-python",
   "name": "python",
   "nbconvert_exporter": "python",
   "pygments_lexer": "ipython3",
   "version": "3.8.10"
  },
  "orig_nbformat": 4
 },
 "nbformat": 4,
 "nbformat_minor": 2
}
