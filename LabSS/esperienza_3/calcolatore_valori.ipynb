{
 "cells": [
  {
   "cell_type": "markdown",
   "metadata": {},
   "source": [
    "# Strumento di progettazione circuitale dati alcuni parametri a scelta"
   ]
  },
  {
   "cell_type": "markdown",
   "metadata": {},
   "source": [
    "## Import dimendenze"
   ]
  },
  {
   "cell_type": "code",
   "execution_count": 7,
   "metadata": {},
   "outputs": [],
   "source": [
    "import numpy as np"
   ]
  },
  {
   "cell_type": "markdown",
   "metadata": {},
   "source": [
    "## Scelta dei parametri di progetto desiderati\n"
   ]
  },
  {
   "cell_type": "code",
   "execution_count": 17,
   "metadata": {},
   "outputs": [],
   "source": [
    "A_vo = -50\n",
    "V_CC = 10\n",
    "I_C = 2e-3\n",
    "f_L = 15\n",
    "f_C = 25e3"
   ]
  },
  {
   "cell_type": "markdown",
   "metadata": {},
   "source": [
    "### Impostazione di alcuni parametri del transistor in questione"
   ]
  },
  {
   "cell_type": "code",
   "execution_count": 18,
   "metadata": {},
   "outputs": [],
   "source": [
    "# Non a scelta, dipendono dal modello\n",
    "V_CE_Sat = 0.2\n",
    "V_T = 26e-3\n",
    "Beta_min = 50"
   ]
  },
  {
   "cell_type": "markdown",
   "metadata": {},
   "source": [
    "## Calcolo dei parametri rimasti"
   ]
  },
  {
   "cell_type": "markdown",
   "metadata": {},
   "source": [
    "Poiché in uno scenario ideale si desidera avere il punto di lavoro a metà della regione attiva, deve valere: $\\newline$\n",
    "$V_{CE}\\approx\\frac{V_{CC}}{2} \\implies I_{C_{Sat}}\\approx 2I_C$ $\\newline$\n",
    "Vale inoltre: $\\newline$\n",
    "$I_E\\approx I_C$"
   ]
  },
  {
   "cell_type": "code",
   "execution_count": 19,
   "metadata": {},
   "outputs": [],
   "source": [
    "I_C_Sat = 2*I_C\n",
    "I_E = I_C"
   ]
  },
  {
   "cell_type": "markdown",
   "metadata": {},
   "source": [
    "$r_e=\\frac{V_T}{I_E}$"
   ]
  },
  {
   "cell_type": "code",
   "execution_count": 20,
   "metadata": {},
   "outputs": [],
   "source": [
    "r_e = V_T/I_E"
   ]
  },
  {
   "cell_type": "markdown",
   "metadata": {},
   "source": [
    "$A_{vo}=-\\frac{R_C}{r_e}\\implies R_C=r_e\\cdot A_{vo}$ $\\newline$\n",
    "$I_{C_{Sat}}=\\frac{V_{CC}-V_{CE_{Sat}}}{R_C+R_E}\\implies R_E=\\frac{V_{CC}-V_{CE_{Sat}}}{I_{C_{Sat}}}-R_C$; con $V_{CE_{Sat}}\\approx 0.2V$ $\\newline$\n",
    "Deve valere: $\\newline$\n",
    "$R_2<\\frac{\\beta}{10}\\cdot R_E\\implies R_2^{Max}=\\frac{\\beta _{min}}{10}\\cdot R_E$, scelgo poi $R_2=80\\%\\cdot R_2^{Max}$\n",
    "$\\newline$\n",
    "Vale poi: $\\newline$\n",
    "$V_{R_1}:V_{R_2}=R_1:R_2$ $\\implies R_1=\\frac{V_{R_1}}{V_{R_2}}\\cdot R_2$ $\\newline$\n",
    "con: $\\newline$\n",
    "$\\begin{cases} V_{R_2}=V_B=V_E+0.7V \\\\ V_E=I_C\\cdot R_E \\\\ V_{R_1}=V_{CC}-V_{R_2} \\end{cases}$ $\\newline$"
   ]
  },
  {
   "cell_type": "code",
   "execution_count": 21,
   "metadata": {},
   "outputs": [],
   "source": [
    "R_C = r_e*abs(A_vo)\n",
    "R_E = (V_CC-V_CE_Sat)/I_C_Sat - R_C\n",
    "R_2 = 0.8 * (Beta_min/10) * R_E\n",
    "V_E = I_C * R_E\n",
    "V_B = V_E + 0.7\n",
    "V_R_2 = V_B\n",
    "V_R_1 = V_CC - V_R_2\n",
    "R_1 = (V_R_1/V_R_2) * R_2"
   ]
  },
  {
   "cell_type": "markdown",
   "metadata": {},
   "source": [
    "$f_{L_1}=\\frac{1}{2\\pi C_{in}\\cdot R_B}\\implies C_{in}=\\frac{1}{2\\pi R_B\\cdot f_{L_1}}$ $\\newline$\n",
    "$f_{L_2}=\\frac{1}{2\\pi C_{out}\\cdot R_C}\\implies C_{out}=\\frac{1}{2\\pi R_C\\cdot f_{L_2}}$ $\\newline$\n",
    "$f_C = \\frac{1}{2\\pi r_e\\cdot C_E} \\implies C_E=\\frac{1}{2\\pi r_e\\cdot f_C}$"
   ]
  },
  {
   "cell_type": "code",
   "execution_count": 22,
   "metadata": {},
   "outputs": [],
   "source": [
    "R_B = (1/R_1+1/R_2)**-1\n",
    "C_E = 1/(2*np.pi*r_e*f_C)\n",
    "C_in = 1/(2*np.pi*R_B*f_L)\n",
    "C_out = 1/(2*np.pi*R_C*f_L)"
   ]
  },
  {
   "cell_type": "markdown",
   "metadata": {},
   "source": [
    "### Calcolo del valore massimo del segnale d'ingresso affinché non venga distorto"
   ]
  },
  {
   "cell_type": "code",
   "execution_count": 23,
   "metadata": {},
   "outputs": [],
   "source": [
    "V_CE = V_CC - I_E*(R_C+R_E)\n",
    "v_in_Max = V_CE/abs(A_vo)"
   ]
  },
  {
   "cell_type": "code",
   "execution_count": 24,
   "metadata": {},
   "outputs": [
    {
     "name": "stdout",
     "output_type": "stream",
     "text": [
      "1800.0 650.0 9544.18604651163 7200.0\n",
      "2.585362948211425e-06 1.632358390686106e-05 4.897075172058318e-07\n",
      "0.102\n"
     ]
    }
   ],
   "source": [
    "print(R_E, R_C, R_1, R_2)\n",
    "print(C_in, C_out, C_E)\n",
    "print(v_in_Max)"
   ]
  },
  {
   "cell_type": "code",
   "execution_count": 16,
   "metadata": {},
   "outputs": [
    {
     "name": "stdout",
     "output_type": "stream",
     "text": [
      "4.3 3.6 5.1\n"
     ]
    }
   ],
   "source": [
    "print(V_B, V_E, V_CE)"
   ]
  },
  {
   "cell_type": "code",
   "execution_count": null,
   "metadata": {},
   "outputs": [],
   "source": []
  }
 ],
 "metadata": {
  "interpreter": {
   "hash": "31f2aee4e71d21fbe5cf8b01ff0e069b9275f58929596ceb00d14d90e3e16cd6"
  },
  "kernelspec": {
   "display_name": "Python 3.8.10 64-bit",
   "name": "python3"
  },
  "language_info": {
   "codemirror_mode": {
    "name": "ipython",
    "version": 3
   },
   "file_extension": ".py",
   "mimetype": "text/x-python",
   "name": "python",
   "nbconvert_exporter": "python",
   "pygments_lexer": "ipython3",
   "version": "3.8.10"
  },
  "orig_nbformat": 4
 },
 "nbformat": 4,
 "nbformat_minor": 2
}
