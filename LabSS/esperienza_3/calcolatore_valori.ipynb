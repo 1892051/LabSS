{
 "cells": [
  {
   "cell_type": "markdown",
   "metadata": {},
   "source": [
    "# Strumento di progettazione circuitale dati alcuni parametri a scelta"
   ]
  },
  {
   "cell_type": "code",
   "execution_count": 13,
   "metadata": {},
   "outputs": [],
   "source": [
    "import numpy as np"
   ]
  },
  {
   "cell_type": "code",
   "execution_count": 2,
   "metadata": {},
   "outputs": [],
   "source": [
    "A_vo = -50\n",
    "V_CC = 10\n",
    "I_C = 2e-3\n",
    "f_L = 100\n",
    "f_C = 25e3\n",
    "# Non a scelta:\n",
    "V_CE_Sat = 0.2\n",
    "V_T = 26e-3\n",
    "Beta_min = 50"
   ]
  },
  {
   "cell_type": "code",
   "execution_count": 3,
   "metadata": {},
   "outputs": [],
   "source": [
    "I_C_Sat = 2*I_C\n",
    "I_E = I_C"
   ]
  },
  {
   "cell_type": "code",
   "execution_count": 4,
   "metadata": {},
   "outputs": [],
   "source": [
    "r_e = V_T/I_E"
   ]
  },
  {
   "cell_type": "code",
   "execution_count": 5,
   "metadata": {},
   "outputs": [],
   "source": [
    "R_C = r_e*abs(A_vo)\n",
    "R_E = (V_CC-V_CE_Sat)/I_C_Sat - R_C\n",
    "R_2 = 0.8 * (Beta_min/10) * R_E\n",
    "V_E = I_C * R_E\n",
    "V_B = V_E + 0.7\n",
    "V_R_2 = V_B\n",
    "V_R_1 = V_CC - V_R_2\n",
    "R_1 = (V_R_1/V_R_2) * R_2"
   ]
  },
  {
   "cell_type": "code",
   "execution_count": 6,
   "metadata": {},
   "outputs": [],
   "source": [
    "R_B = (1/R_1+1/R_2)**-1\n",
    "C_E = 1/(2*np.pi*r_e*f_C)\n",
    "C_in = 1/(2*np.pi*R_B*f_L)\n",
    "C_out = 1/(2*np.pi*R_C*f_L)"
   ]
  },
  {
   "cell_type": "code",
   "execution_count": 7,
   "metadata": {},
   "outputs": [
    {
     "name": "stdout",
     "output_type": "stream",
     "text": [
      "1800.0 650.0 9544.18604651163 7200.0\n"
     ]
    }
   ],
   "source": [
    "print(R_E, R_C, R_1, R_2)"
   ]
  }
 ],
 "metadata": {
  "interpreter": {
   "hash": "31f2aee4e71d21fbe5cf8b01ff0e069b9275f58929596ceb00d14d90e3e16cd6"
  },
  "kernelspec": {
   "display_name": "Python 3.9.5 64-bit",
   "name": "python3"
  },
  "language_info": {
   "codemirror_mode": {
    "name": "ipython",
    "version": 3
   },
   "file_extension": ".py",
   "mimetype": "text/x-python",
   "name": "python",
   "nbconvert_exporter": "python",
   "pygments_lexer": "ipython3",
   "version": "3.9.5"
  },
  "orig_nbformat": 4
 },
 "nbformat": 4,
 "nbformat_minor": 2
}
