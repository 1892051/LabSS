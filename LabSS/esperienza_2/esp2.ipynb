{
 "cells": [
  {
   "cell_type": "markdown",
   "metadata": {},
   "source": [
    "# Seconda esperienza: BJT emettitore comune senza capacità"
   ]
  },
  {
   "cell_type": "markdown",
   "metadata": {},
   "source": [
    "## Import delle dipendenze"
   ]
  },
  {
   "cell_type": "code",
   "execution_count": 49,
   "metadata": {},
   "outputs": [],
   "source": [
    "import pandas as pd\n",
    "import numpy as np\n",
    "from matplotlib import pyplot as plt\n",
    "\n",
    "from scipy.optimize import curve_fit\n",
    "\n",
    "from mpl_toolkits.axes_grid1.inset_locator import zoomed_inset_axes\n",
    "from mpl_toolkits.axes_grid1.inset_locator import mark_inset\n",
    "import matplotlib.ticker as mticker\n",
    "\n",
    "import matplotlib as mpl\n",
    "mpl.rcParams['figure.dpi'] = 100"
   ]
  },
  {
   "cell_type": "markdown",
   "metadata": {},
   "source": [
    "## Valori dei componenti utilizzati"
   ]
  },
  {
   "cell_type": "code",
   "execution_count": 3,
   "metadata": {},
   "outputs": [],
   "source": [
    "V_CC = 12.000\n",
    "# Resistori (Ohm)\n",
    "R_1 = 46620 #4cifre\n",
    "R_2 = 6730\n",
    "R_C = 3882\n",
    "R_E = 470.3\n",
    "R_S = 50\n",
    "R_L = 1\n",
    "# Condensatori (Farad)\n",
    "C_i = 221.1e-9\n",
    "C_o = 440.5e-9\n",
    "# Valori misurati per polarizzazione\n",
    "V_C = 0.8154\n",
    "V_B = 1.4503\n",
    "V_E = 5.234\n",
    "V_CE = 4.440\n",
    "V_BE = 0.6348\n",
    "# misura di h_FE\n",
    "h_FE = 204"
   ]
  },
  {
   "cell_type": "markdown",
   "metadata": {},
   "source": [
    "## Dati raccolti"
   ]
  },
  {
   "cell_type": "code",
   "execution_count": 4,
   "metadata": {},
   "outputs": [
    {
     "name": "stdout",
     "output_type": "stream",
     "text": [
      "[1.00000000e+01 2.06913808e+01 4.28133240e+01 8.85866790e+01\n",
      " 1.83298071e+02 3.79269019e+02 7.84759970e+02 1.62377674e+03\n",
      " 3.35981829e+03 6.95192796e+03 1.43844989e+04 2.97635144e+04\n",
      " 6.15848211e+04 1.27427499e+05 2.63665090e+05 5.45559478e+05\n",
      " 1.12883789e+06 2.33572147e+06 4.83293024e+06 1.00000000e+07]\n"
     ]
    }
   ],
   "source": [
    "# Frequenze suggerite:\n",
    "pts = 20\n",
    "hint_nu = np.logspace(1,7, pts, base=10)\n",
    "print(hint_nu)"
   ]
  },
  {
   "cell_type": "code",
   "execution_count": 5,
   "metadata": {},
   "outputs": [],
   "source": [
    "nu = np.array([10.22,19.85,42.65,88.3,105.7,129.9,183.7,378,784,1623,3325,6920,14050,29138,61650,127050,258300,349000,545500,1033500,2608000,4805000,10810000])\n",
    "V_in = np.array([810,820,820,820,820,820,810,810,810,810,810,810,810,810,800,800,800,810,800,800,800,790,740])*10**-3\n",
    "V_out = np.array([0.56,1.05,2.05,3.64,4.10,4.55,5.23,5.99,6.27,6.35,6.35,6.35,6.31,6.20,6.07,5.71,4.70,4.02,3.02,1.81,0.8,0.44,0.24])"
   ]
  },
  {
   "cell_type": "code",
   "execution_count": 6,
   "metadata": {},
   "outputs": [
    {
     "data": {
      "text/plain": [
       "23"
      ]
     },
     "execution_count": 6,
     "metadata": {},
     "output_type": "execute_result"
    }
   ],
   "source": [
    "len(V_out)"
   ]
  },
  {
   "cell_type": "markdown",
   "metadata": {},
   "source": [
    "### Calcolo della finzione di trasferimento e della capacità di $C_1$ per avere $\\nu_C = 100 Hz$"
   ]
  },
  {
   "cell_type": "code",
   "execution_count": 7,
   "metadata": {},
   "outputs": [
    {
     "name": "stdout",
     "output_type": "stream",
     "text": [
      "106.16997013584222\n"
     ]
    }
   ],
   "source": [
    "nu_c = 100 #Frequenza di taglio desiderata\n",
    "T = V_out/V_in\n",
    "C_1 = 1/(2*np.pi*(R_2+R_S)*nu_c)\n",
    "\n",
    "nu_c_attesa = 1/(2*np.pi*(R_2+R_S)*C_i)\n",
    "print(nu_c_attesa)"
   ]
  },
  {
   "cell_type": "markdown",
   "metadata": {},
   "source": [
    "### Creazione di un DataFrame contenente i dati raccolti e i dati elaborati"
   ]
  },
  {
   "cell_type": "code",
   "execution_count": 8,
   "metadata": {},
   "outputs": [],
   "source": [
    "table = {\"nu (Hz)\": nu, \"V_in (V)\": V_in, \"V_out (V)\": V_out, \"T\":T}\n",
    "df = pd.DataFrame(table)"
   ]
  },
  {
   "cell_type": "code",
   "execution_count": 9,
   "metadata": {},
   "outputs": [
    {
     "data": {
      "text/html": [
       "<div>\n",
       "<style scoped>\n",
       "    .dataframe tbody tr th:only-of-type {\n",
       "        vertical-align: middle;\n",
       "    }\n",
       "\n",
       "    .dataframe tbody tr th {\n",
       "        vertical-align: top;\n",
       "    }\n",
       "\n",
       "    .dataframe thead th {\n",
       "        text-align: right;\n",
       "    }\n",
       "</style>\n",
       "<table border=\"1\" class=\"dataframe\">\n",
       "  <thead>\n",
       "    <tr style=\"text-align: right;\">\n",
       "      <th></th>\n",
       "      <th>nu (Hz)</th>\n",
       "      <th>V_in (V)</th>\n",
       "      <th>V_out (V)</th>\n",
       "      <th>T</th>\n",
       "    </tr>\n",
       "  </thead>\n",
       "  <tbody>\n",
       "    <tr>\n",
       "      <th>0</th>\n",
       "      <td>10.22</td>\n",
       "      <td>0.81</td>\n",
       "      <td>0.56</td>\n",
       "      <td>0.691358</td>\n",
       "    </tr>\n",
       "    <tr>\n",
       "      <th>1</th>\n",
       "      <td>19.85</td>\n",
       "      <td>0.82</td>\n",
       "      <td>1.05</td>\n",
       "      <td>1.280488</td>\n",
       "    </tr>\n",
       "    <tr>\n",
       "      <th>2</th>\n",
       "      <td>42.65</td>\n",
       "      <td>0.82</td>\n",
       "      <td>2.05</td>\n",
       "      <td>2.500000</td>\n",
       "    </tr>\n",
       "    <tr>\n",
       "      <th>3</th>\n",
       "      <td>88.30</td>\n",
       "      <td>0.82</td>\n",
       "      <td>3.64</td>\n",
       "      <td>4.439024</td>\n",
       "    </tr>\n",
       "    <tr>\n",
       "      <th>4</th>\n",
       "      <td>105.70</td>\n",
       "      <td>0.82</td>\n",
       "      <td>4.10</td>\n",
       "      <td>5.000000</td>\n",
       "    </tr>\n",
       "    <tr>\n",
       "      <th>5</th>\n",
       "      <td>129.90</td>\n",
       "      <td>0.82</td>\n",
       "      <td>4.55</td>\n",
       "      <td>5.548780</td>\n",
       "    </tr>\n",
       "    <tr>\n",
       "      <th>6</th>\n",
       "      <td>183.70</td>\n",
       "      <td>0.81</td>\n",
       "      <td>5.23</td>\n",
       "      <td>6.456790</td>\n",
       "    </tr>\n",
       "    <tr>\n",
       "      <th>7</th>\n",
       "      <td>378.00</td>\n",
       "      <td>0.81</td>\n",
       "      <td>5.99</td>\n",
       "      <td>7.395062</td>\n",
       "    </tr>\n",
       "    <tr>\n",
       "      <th>8</th>\n",
       "      <td>784.00</td>\n",
       "      <td>0.81</td>\n",
       "      <td>6.27</td>\n",
       "      <td>7.740741</td>\n",
       "    </tr>\n",
       "    <tr>\n",
       "      <th>9</th>\n",
       "      <td>1623.00</td>\n",
       "      <td>0.81</td>\n",
       "      <td>6.35</td>\n",
       "      <td>7.839506</td>\n",
       "    </tr>\n",
       "    <tr>\n",
       "      <th>10</th>\n",
       "      <td>3325.00</td>\n",
       "      <td>0.81</td>\n",
       "      <td>6.35</td>\n",
       "      <td>7.839506</td>\n",
       "    </tr>\n",
       "    <tr>\n",
       "      <th>11</th>\n",
       "      <td>6920.00</td>\n",
       "      <td>0.81</td>\n",
       "      <td>6.35</td>\n",
       "      <td>7.839506</td>\n",
       "    </tr>\n",
       "    <tr>\n",
       "      <th>12</th>\n",
       "      <td>14050.00</td>\n",
       "      <td>0.81</td>\n",
       "      <td>6.31</td>\n",
       "      <td>7.790123</td>\n",
       "    </tr>\n",
       "    <tr>\n",
       "      <th>13</th>\n",
       "      <td>29138.00</td>\n",
       "      <td>0.81</td>\n",
       "      <td>6.20</td>\n",
       "      <td>7.654321</td>\n",
       "    </tr>\n",
       "    <tr>\n",
       "      <th>14</th>\n",
       "      <td>61650.00</td>\n",
       "      <td>0.80</td>\n",
       "      <td>6.07</td>\n",
       "      <td>7.587500</td>\n",
       "    </tr>\n",
       "    <tr>\n",
       "      <th>15</th>\n",
       "      <td>127050.00</td>\n",
       "      <td>0.80</td>\n",
       "      <td>5.71</td>\n",
       "      <td>7.137500</td>\n",
       "    </tr>\n",
       "    <tr>\n",
       "      <th>16</th>\n",
       "      <td>258300.00</td>\n",
       "      <td>0.80</td>\n",
       "      <td>4.70</td>\n",
       "      <td>5.875000</td>\n",
       "    </tr>\n",
       "    <tr>\n",
       "      <th>17</th>\n",
       "      <td>349000.00</td>\n",
       "      <td>0.81</td>\n",
       "      <td>4.02</td>\n",
       "      <td>4.962963</td>\n",
       "    </tr>\n",
       "    <tr>\n",
       "      <th>18</th>\n",
       "      <td>545500.00</td>\n",
       "      <td>0.80</td>\n",
       "      <td>3.02</td>\n",
       "      <td>3.775000</td>\n",
       "    </tr>\n",
       "    <tr>\n",
       "      <th>19</th>\n",
       "      <td>1033500.00</td>\n",
       "      <td>0.80</td>\n",
       "      <td>1.81</td>\n",
       "      <td>2.262500</td>\n",
       "    </tr>\n",
       "    <tr>\n",
       "      <th>20</th>\n",
       "      <td>2608000.00</td>\n",
       "      <td>0.80</td>\n",
       "      <td>0.80</td>\n",
       "      <td>1.000000</td>\n",
       "    </tr>\n",
       "    <tr>\n",
       "      <th>21</th>\n",
       "      <td>4805000.00</td>\n",
       "      <td>0.79</td>\n",
       "      <td>0.44</td>\n",
       "      <td>0.556962</td>\n",
       "    </tr>\n",
       "    <tr>\n",
       "      <th>22</th>\n",
       "      <td>10810000.00</td>\n",
       "      <td>0.74</td>\n",
       "      <td>0.24</td>\n",
       "      <td>0.324324</td>\n",
       "    </tr>\n",
       "  </tbody>\n",
       "</table>\n",
       "</div>"
      ],
      "text/plain": [
       "        nu (Hz)  V_in (V)  V_out (V)         T\n",
       "0         10.22      0.81       0.56  0.691358\n",
       "1         19.85      0.82       1.05  1.280488\n",
       "2         42.65      0.82       2.05  2.500000\n",
       "3         88.30      0.82       3.64  4.439024\n",
       "4        105.70      0.82       4.10  5.000000\n",
       "5        129.90      0.82       4.55  5.548780\n",
       "6        183.70      0.81       5.23  6.456790\n",
       "7        378.00      0.81       5.99  7.395062\n",
       "8        784.00      0.81       6.27  7.740741\n",
       "9       1623.00      0.81       6.35  7.839506\n",
       "10      3325.00      0.81       6.35  7.839506\n",
       "11      6920.00      0.81       6.35  7.839506\n",
       "12     14050.00      0.81       6.31  7.790123\n",
       "13     29138.00      0.81       6.20  7.654321\n",
       "14     61650.00      0.80       6.07  7.587500\n",
       "15    127050.00      0.80       5.71  7.137500\n",
       "16    258300.00      0.80       4.70  5.875000\n",
       "17    349000.00      0.81       4.02  4.962963\n",
       "18    545500.00      0.80       3.02  3.775000\n",
       "19   1033500.00      0.80       1.81  2.262500\n",
       "20   2608000.00      0.80       0.80  1.000000\n",
       "21   4805000.00      0.79       0.44  0.556962\n",
       "22  10810000.00      0.74       0.24  0.324324"
      ]
     },
     "execution_count": 9,
     "metadata": {},
     "output_type": "execute_result"
    }
   ],
   "source": [
    "df"
   ]
  },
  {
   "cell_type": "markdown",
   "metadata": {},
   "source": [
    "#### Conversione del DataFrame creato in formato LaTeX"
   ]
  },
  {
   "cell_type": "code",
   "execution_count": 10,
   "metadata": {},
   "outputs": [
    {
     "data": {
      "text/plain": [
       "'\\\\begin{tabular}{lrrrr}\\n\\\\toprule\\n{} &      nu (Hz) &  V\\\\_in (V) &  V\\\\_out (V) &         T \\\\\\\\\\n\\\\midrule\\n0  &        10.22 &      0.81 &       0.56 &  0.691358 \\\\\\\\\\n1  &        19.85 &      0.82 &       1.05 &  1.280488 \\\\\\\\\\n2  &        42.65 &      0.82 &       2.05 &  2.500000 \\\\\\\\\\n3  &        88.30 &      0.82 &       3.64 &  4.439024 \\\\\\\\\\n4  &       105.70 &      0.82 &       4.10 &  5.000000 \\\\\\\\\\n5  &       129.90 &      0.82 &       4.55 &  5.548780 \\\\\\\\\\n6  &       183.70 &      0.81 &       5.23 &  6.456790 \\\\\\\\\\n7  &       378.00 &      0.81 &       5.99 &  7.395062 \\\\\\\\\\n8  &       784.00 &      0.81 &       6.27 &  7.740741 \\\\\\\\\\n9  &      1623.00 &      0.81 &       6.35 &  7.839506 \\\\\\\\\\n10 &      3325.00 &      0.81 &       6.35 &  7.839506 \\\\\\\\\\n11 &      6920.00 &      0.81 &       6.35 &  7.839506 \\\\\\\\\\n12 &     14050.00 &      0.81 &       6.31 &  7.790123 \\\\\\\\\\n13 &     29138.00 &      0.81 &       6.20 &  7.654321 \\\\\\\\\\n14 &     61650.00 &      0.80 &       6.07 &  7.587500 \\\\\\\\\\n15 &    127050.00 &      0.80 &       5.71 &  7.137500 \\\\\\\\\\n16 &    258300.00 &      0.80 &       4.70 &  5.875000 \\\\\\\\\\n17 &    349000.00 &      0.81 &       4.02 &  4.962963 \\\\\\\\\\n18 &    545500.00 &      0.80 &       3.02 &  3.775000 \\\\\\\\\\n19 &   1033500.00 &      0.80 &       1.81 &  2.262500 \\\\\\\\\\n20 &   2608000.00 &      0.80 &       0.80 &  1.000000 \\\\\\\\\\n21 &   4805000.00 &      0.79 &       0.44 &  0.556962 \\\\\\\\\\n22 &  10810000.00 &      0.74 &       0.24 &  0.324324 \\\\\\\\\\n\\\\bottomrule\\n\\\\end{tabular}\\n'"
      ]
     },
     "execution_count": 10,
     "metadata": {},
     "output_type": "execute_result"
    }
   ],
   "source": [
    "df.to_latex()"
   ]
  },
  {
   "cell_type": "markdown",
   "metadata": {},
   "source": [
    "## Diagrammi di Bode"
   ]
  },
  {
   "cell_type": "code",
   "execution_count": 50,
   "metadata": {},
   "outputs": [],
   "source": [
    "# definisco una funzione di linearità\n",
    "def func(x, m, c):\n",
    "    return m*x+c"
   ]
  },
  {
   "cell_type": "markdown",
   "metadata": {},
   "source": [
    "### Funzione di trasferimento"
   ]
  },
  {
   "cell_type": "markdown",
   "metadata": {},
   "source": [
    "$y=m*x+c$ $\\implies$ $\\nu_C=\\frac{A_v}{m}-c$"
   ]
  },
  {
   "cell_type": "code",
   "execution_count": 145,
   "metadata": {},
   "outputs": [
    {
     "name": "stdout",
     "output_type": "stream",
     "text": [
      "100.06810227023615 395855.3364757657\n"
     ]
    },
    {
     "data": {
      "image/png": "[encoded data removed]",
      "text/plain": [
       "<Figure size 600x400 with 3 Axes>"
      ]
     },
     "metadata": {
      "needs_background": "light"
     },
     "output_type": "display_data"
    }
   ],
   "source": [
    "fig = plt.figure()\n",
    "ay = fig.add_subplot(1, 1, 1)\n",
    "ay.set_xscale('log')\n",
    "\n",
    "plt.xscale(\"log\")\n",
    "plt.scatter(nu,20*np.log10(T), label=\"dati raccolti\")\n",
    "#plt.axhline(-3, color=\"red\", label=\"-3dB\") # Bisogna vedere se T_max == 1, altrimenti credo che questa ordinata non sia corretta\n",
    "plt.axvline(nu_c_attesa, label=\"$\\\\nu_C$ teorica\", color=\"green\")\n",
    "#plt.axhline(20*np.log10( T[8:14].mean()/np.sqrt(2)) )\n",
    "plt.axhline(20*np.log10( T[8:14].mean()-3 ) ,color=\"red\", label=\"-3dB\")\n",
    "#plt.scatter(355000,np.log())\n",
    "\n",
    "plt.title(\"Diagramma di Bode, Funzione di trasferimento\")\n",
    "\n",
    "# faccio il fit lineare\n",
    "sigma_T = T*np.sqrt(2)*0.03\n",
    "# per la frequenza bassa\n",
    "param_L,cov_L=curve_fit(func,nu[3:6],T[3:6],sigma=sigma_T[3:6])\n",
    "m_L=param_L[0]\n",
    "sigma_m_L=cov_L[0,0]\n",
    "c_L=param_L[1]\n",
    "sigma_c=cov_L[1,1]\n",
    "x_fit_L=np.linspace(nu[3:7].min(),nu[3:7].max(),100)\n",
    "y_fit_L=func(x_fit_L,m_L,c_L)\n",
    "plt.plot(x_fit_L,20*np.log10(y_fit_L),color=\"purple\",label=\"fit\")\n",
    "# per la frequenza alta\n",
    "param_H,cov_H=curve_fit(func,nu[16:19],T[16:19],sigma=sigma_T[16:19])\n",
    "m_H=param_H[0]\n",
    "sigma_m_H=cov_H[0,0]\n",
    "c_H=param_H[1]\n",
    "sigma_H=cov_H[1,1]\n",
    "x_fit_H=np.linspace(nu[16:19].min(),nu[16:19].max(),100)\n",
    "y_fit_H=func(x_fit_H,m_H,c_H)\n",
    "plt.plot(x_fit_H,20*np.log10(y_fit_H),color=\"purple\")#,label=\"fit lineare\")\n",
    "\n",
    "nu_c_calcolata_L = (( T[8:14].mean()-3))/m_L - c_L/m_L\n",
    "nu_c_calcolata_H = (( T[8:14].mean()-3))/m_H - c_H/m_H\n",
    "print(nu_c_calcolata_L, nu_c_calcolata_H)\n",
    "\n",
    "plt.xlabel(\"$\\\\nu$ (Hz)\")\n",
    "plt.ylabel(\"Guadagno (dB)\")\n",
    "plt.grid()\n",
    "plt.ylim(-25,25)\n",
    "plt.legend()\n",
    "\n",
    "#per lo zoom sulla F_L\n",
    "\n",
    "axins = zoomed_inset_axes(ay, 4,loc=\"center\") \n",
    "axins.set_xlim(80, 135) \n",
    "axins.set_ylim(12.5,15.3) \n",
    "plt.scatter(nu,(20*np.log10(T)),marker='o')\n",
    "#plt.plot(w,    H(w*2*np.pi), label=\"curva teorica\")\n",
    "plt.axhline(20*np.log10( T[8:14].mean()-3 ) ,color=\"red\", label=\"-3dB\")\n",
    "plt.grid(which=\"both\")\n",
    "mark_inset(ay, axins, loc1=2, loc2=4, fc=\"none\", ec=\"0.5\")\n",
    "plt.xticks(visible=True)\n",
    "plt.yticks(visible=True)\n",
    "\n",
    "plt.plot(x_fit_L,20*np.log10(y_fit_L),color=\"purple\")\n",
    "plt.scatter(nu_c_calcolata_L,20*np.log10( T[8:14].mean()-3 ),marker=\"x\",color=\"black\")\n",
    "axins.patch.set_alpha(.7)\n",
    "\n",
    "plt.title(\"4x\")\n",
    "\n",
    "#per lo zoom sulla F_H\n",
    "\n",
    "axins = zoomed_inset_axes(ay, 4,loc=\"lower right\") \n",
    "axins.set_xlim(230000, 600000) \n",
    "axins.set_ylim(11,15.6) \n",
    "plt.scatter(nu,(20*np.log10(T)),marker='o')\n",
    "#plt.plot(w,    H(w*2*np.pi), label=\"curva teorica\")\n",
    "plt.axhline(20*np.log10( T[8:14].mean()-3 ) ,color=\"red\", label=\"-3dB\")\n",
    "plt.grid(which=\"both\")\n",
    "mark_inset(ay, axins, loc1=2, loc2=4, fc=\"none\", ec=\"0.5\")\n",
    "plt.xticks(visible=True)\n",
    "plt.yticks(visible=True)\n",
    "\n",
    "\n",
    "plt.plot(x_fit_H,20*np.log10(y_fit_H),color=\"purple\")\n",
    "\n",
    "plt.scatter(nu_c_calcolata_H,20*np.log10( T[8:14].mean()-3 ),marker=\"x\",color=\"black\")\n",
    "axins.patch.set_alpha(.7)\n",
    "\n",
    "\n",
    "plt.title(\"4x\")\n",
    "\n",
    "\n",
    "\n",
    "plt.savefig(\"Bode_T.png\", dpi=300)"
   ]
  },
  {
   "cell_type": "markdown",
   "metadata": {},
   "source": [
    "### Sfasamento"
   ]
  },
  {
   "cell_type": "markdown",
   "metadata": {},
   "source": [
    "## Misura resistenza in uscita"
   ]
  },
  {
   "cell_type": "markdown",
   "metadata": {},
   "source": [
    "$\\frac{V_{out}^{(vuoto)}}{V_{out}^{(carico)}}=\\frac{1}{R_L}(R_L+R_{out})=1+\\frac{R_{out}}{R_L} \\implies R_{out}=R_L(\\frac{V_{out}^{(vuoto)}}{V_{out}^{(carico)}}-1)$"
   ]
  },
  {
   "cell_type": "code",
   "execution_count": 99,
   "metadata": {},
   "outputs": [],
   "source": [
    "R_out_teorico = R_C\n",
    "R_L = 3883"
   ]
  },
  {
   "cell_type": "code",
   "execution_count": 119,
   "metadata": {},
   "outputs": [],
   "source": [
    "# Misure effettuate per 3 frequenze IN BANDA:\n",
    "nu_rl = np.array([19850,40000,70000])\n",
    "# Senza carico:\n",
    "V_out_senza_carico = np.array([6.31,6.23,6.21])\n",
    "# Con carico:\n",
    "V_out_con_carico = np.array([3.26,3.22,3.22])"
   ]
  },
  {
   "cell_type": "code",
   "execution_count": 120,
   "metadata": {},
   "outputs": [],
   "source": [
    "R_out = R_L*(V_out_senza_carico/V_out_con_carico -1)"
   ]
  },
  {
   "cell_type": "code",
   "execution_count": 121,
   "metadata": {},
   "outputs": [
    {
     "data": {
      "text/plain": [
       "3731.9158124706264"
      ]
     },
     "execution_count": 121,
     "metadata": {},
     "output_type": "execute_result"
    }
   ],
   "source": [
    "R_out.mean()"
   ]
  },
  {
   "cell_type": "code",
   "execution_count": 112,
   "metadata": {},
   "outputs": [
    {
     "data": {
      "text/plain": [
       "93.07192314708143"
      ]
     },
     "execution_count": 112,
     "metadata": {},
     "output_type": "execute_result"
    }
   ],
   "source": [
    "# Frequenza di taglio dovuta a C_out\n",
    "1/(2*np.pi*R_C*(C_o))"
   ]
  }
 ],
 "metadata": {
  "interpreter": {
   "hash": "31f2aee4e71d21fbe5cf8b01ff0e069b9275f58929596ceb00d14d90e3e16cd6"
  },
  "kernelspec": {
   "display_name": "Python 3.8.10 64-bit",
   "name": "python3"
  },
  "language_info": {
   "codemirror_mode": {
    "name": "ipython",
    "version": 3
   },
   "file_extension": ".py",
   "mimetype": "text/x-python",
   "name": "python",
   "nbconvert_exporter": "python",
   "pygments_lexer": "ipython3",
   "version": "3.8.10"
  },
  "orig_nbformat": 4
 },
 "nbformat": 4,
 "nbformat_minor": 2
}
