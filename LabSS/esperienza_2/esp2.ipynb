{
 "cells": [
  {
   "cell_type": "markdown",
   "metadata": {},
   "source": [
    "# Seconda esperienza: BJT emettitore comune senza capacità"
   ]
  },
  {
   "cell_type": "markdown",
   "metadata": {},
   "source": [
    "## Import delle dipendenze"
   ]
  },
  {
   "cell_type": "code",
   "execution_count": 1,
   "metadata": {},
   "outputs": [],
   "source": [
    "import pandas as pd\n",
    "import numpy as np\n",
    "from matplotlib import pyplot as plt\n",
    "\n",
    "import matplotlib as mpl\n",
    "mpl.rcParams['figure.dpi'] = 100"
   ]
  },
  {
   "cell_type": "markdown",
   "metadata": {},
   "source": [
    "## Valori dei componenti utilizzati"
   ]
  },
  {
   "cell_type": "code",
   "execution_count": 2,
   "metadata": {},
   "outputs": [],
   "source": [
    "# Resistori (Ohm)\n",
    "R_1 = 1\n",
    "R_2 = 1\n",
    "R_C = 1\n",
    "R_E = 1\n",
    "R_S = 1\n",
    "R_L = 1\n",
    "# Condensatori (Farad)\n",
    "C_i = 1\n",
    "c_o = 1"
   ]
  },
  {
   "cell_type": "markdown",
   "metadata": {},
   "source": [
    "## Dati raccolti"
   ]
  },
  {
   "cell_type": "code",
   "execution_count": 3,
   "metadata": {},
   "outputs": [],
   "source": [
    "V_in = np.array([])\n",
    "V_out = np.array([])\n",
    "nu = np.array([])\n",
    "dt = np.array([])"
   ]
  },
  {
   "cell_type": "markdown",
   "metadata": {},
   "source": [
    "### Calcolo dello sfasamento, della funzione di trasferimento e della frequenza di taglio inferiore"
   ]
  },
  {
   "cell_type": "code",
   "execution_count": 4,
   "metadata": {},
   "outputs": [],
   "source": [
    "dphi = ((2*np.pi*nu*dt)*(180/np.pi))\n",
    "T = V_out/V_in\n",
    "nu_c_1 = 0 #Inserire codice"
   ]
  },
  {
   "cell_type": "markdown",
   "metadata": {},
   "source": [
    "### Creazione di un DataFrame contenente i dati raccolti e i dati elaborati"
   ]
  },
  {
   "cell_type": "code",
   "execution_count": 5,
   "metadata": {},
   "outputs": [],
   "source": [
    "table = {\"nu (Hz)\": nu, \"V_in (V)\": V_in, \"V_out (V)\": V_out, \"T\":T, \"DeltaT (s)\": dt, \"DeltaPhi (Deg)\": dphi}\n",
    "df = pd.DataFrame(table)"
   ]
  },
  {
   "cell_type": "code",
   "execution_count": 6,
   "metadata": {},
   "outputs": [
    {
     "data": {
      "text/html": [
       "<div>\n",
       "<style scoped>\n",
       "    .dataframe tbody tr th:only-of-type {\n",
       "        vertical-align: middle;\n",
       "    }\n",
       "\n",
       "    .dataframe tbody tr th {\n",
       "        vertical-align: top;\n",
       "    }\n",
       "\n",
       "    .dataframe thead th {\n",
       "        text-align: right;\n",
       "    }\n",
       "</style>\n",
       "<table border=\"1\" class=\"dataframe\">\n",
       "  <thead>\n",
       "    <tr style=\"text-align: right;\">\n",
       "      <th></th>\n",
       "      <th>nu (Hz)</th>\n",
       "      <th>V_in (V)</th>\n",
       "      <th>V_out (V)</th>\n",
       "      <th>T</th>\n",
       "      <th>DeltaT (s)</th>\n",
       "      <th>DeltaPhi (Deg)</th>\n",
       "    </tr>\n",
       "  </thead>\n",
       "  <tbody>\n",
       "  </tbody>\n",
       "</table>\n",
       "</div>"
      ],
      "text/plain": [
       "Empty DataFrame\n",
       "Columns: [nu (Hz), V_in (V), V_out (V), T, DeltaT (s), DeltaPhi (Deg)]\n",
       "Index: []"
      ]
     },
     "execution_count": 6,
     "metadata": {},
     "output_type": "execute_result"
    }
   ],
   "source": [
    "df"
   ]
  },
  {
   "cell_type": "markdown",
   "metadata": {},
   "source": [
    "#### Conversione del DataFrame creato in formato LaTeX"
   ]
  },
  {
   "cell_type": "code",
   "execution_count": 7,
   "metadata": {},
   "outputs": [
    {
     "data": {
      "text/plain": [
       "\"\\\\begin{tabular}{lrrrrrr}\\n\\\\toprule\\nEmpty DataFrame\\nColumns: Index(['nu (Hz)', 'V\\\\_in (V)', 'V\\\\_out (V)', 'T', 'DeltaT (s)',\\n       'DeltaPhi (Deg)'],\\n      dtype='object')\\nIndex: RangeIndex(start=0, stop=0, step=1) \\\\\\\\\\n\\\\bottomrule\\n\\\\end{tabular}\\n\""
      ]
     },
     "execution_count": 7,
     "metadata": {},
     "output_type": "execute_result"
    }
   ],
   "source": [
    "df.to_latex()"
   ]
  },
  {
   "cell_type": "markdown",
   "metadata": {},
   "source": [
    "## Diagrammi di Bode"
   ]
  },
  {
   "cell_type": "markdown",
   "metadata": {},
   "source": [
    "### Funzione di trasferimento"
   ]
  },
  {
   "cell_type": "code",
   "execution_count": 8,
   "metadata": {},
   "outputs": [
    {
     "name": "stderr",
     "output_type": "stream",
     "text": [
      "/tmp/ipykernel_20436/3524734173.py:11: UserWarning: Data has no positive values, and therefore cannot be log-scaled.\n",
      "  plt.savefig(\"Bode_T.png\", dpi=300)\n"
     ]
    },
    {
     "data": {
      "image/png": "[encoded data removed]",
      "text/plain": [
       "<Figure size 600x400 with 1 Axes>"
      ]
     },
     "metadata": {
      "needs_background": "light"
     },
     "output_type": "display_data"
    }
   ],
   "source": [
    "plt.xscale(\"log\")\n",
    "plt.scatter(nu,20*np.log(T), label=\"dati raccolti\")\n",
    "#plt.axhline(-3, color=\"red\", label=\"-3dB\") # Bisogna vedere se T_max == 1, altrimenti credo che questa ordinata non sia corretta\n",
    "plt.axvline(nu_c_1, label=\"$\\\\nu_C$ teorica\", color=\"green\")\n",
    "plt.legend()\n",
    "\n",
    "plt.xlabel(\"$\\\\nu$ (Hz)\")\n",
    "plt.ylabel(\"Attenuazione (dB)\")\n",
    "plt.grid()\n",
    "plt.title(\"Diagramma di Bode, Funzione di trasferimento\")\n",
    "plt.savefig(\"Bode_T.png\", dpi=300)"
   ]
  },
  {
   "cell_type": "markdown",
   "metadata": {},
   "source": [
    "### Sfasamento"
   ]
  },
  {
   "cell_type": "code",
   "execution_count": 9,
   "metadata": {},
   "outputs": [
    {
     "name": "stderr",
     "output_type": "stream",
     "text": [
      "/tmp/ipykernel_20436/1713196165.py:11: UserWarning: Data has no positive values, and therefore cannot be log-scaled.\n",
      "  plt.savefig(\"Bode_Phi.png\", dpi=300)\n"
     ]
    },
    {
     "data": {
      "image/png": "[encoded data removed]",
      "text/plain": [
       "<Figure size 600x400 with 1 Axes>"
      ]
     },
     "metadata": {
      "needs_background": "light"
     },
     "output_type": "display_data"
    }
   ],
   "source": [
    "plt.xscale(\"log\")\n",
    "plt.scatter(nu, dphi, label=\"Dati raccolti\")\n",
    "plt.ylim(0,99)\n",
    "plt.xlabel(\"$\\\\nu$ (Hz)\")\n",
    "plt.grid()\n",
    "plt.axhline(45, label=\"45°\", color=\"red\")\n",
    "plt.axvline(nu_c_1, label=\"$\\\\nu_C$ teorica\", color=\"green\")\n",
    "plt.ylabel(\"Sfasamento (Deg)\")\n",
    "plt.legend()\n",
    "plt.title(\"Diagramma di Bode, fase\")\n",
    "plt.savefig(\"Bode_Phi.png\", dpi=300)"
   ]
  },
  {
   "cell_type": "markdown",
   "metadata": {},
   "source": [
    "## Misura resistenza in uscita"
   ]
  },
  {
   "cell_type": "markdown",
   "metadata": {},
   "source": []
  }
 ],
 "metadata": {
  "interpreter": {
   "hash": "31f2aee4e71d21fbe5cf8b01ff0e069b9275f58929596ceb00d14d90e3e16cd6"
  },
  "kernelspec": {
   "display_name": "Python 3.9.5 64-bit",
   "name": "python3"
  },
  "language_info": {
   "codemirror_mode": {
    "name": "ipython",
    "version": 3
   },
   "file_extension": ".py",
   "mimetype": "text/x-python",
   "name": "python",
   "nbconvert_exporter": "python",
   "pygments_lexer": "ipython3",
   "version": "3.9.5"
  },
  "orig_nbformat": 4
 },
 "nbformat": 4,
 "nbformat_minor": 2
}
