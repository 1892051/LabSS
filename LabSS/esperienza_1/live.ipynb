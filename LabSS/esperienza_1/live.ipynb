{
 "cells": [
  {
   "cell_type": "markdown",
   "metadata": {},
   "source": [
    "# Prima esperienza in laboratorio\n"
   ]
  },
  {
   "cell_type": "code",
   "execution_count": 2,
   "metadata": {},
   "outputs": [],
   "source": [
    "import pandas as pd \n",
    "import matplotlib.pyplot as plt\n",
    "import numpy as np"
   ]
  },
  {
   "cell_type": "markdown",
   "metadata": {},
   "source": [
    "## Partitore resistivo"
   ]
  },
  {
   "cell_type": "code",
   "execution_count": 3,
   "metadata": {},
   "outputs": [],
   "source": [
    "R1 = [1004.5, 1004.4]\n",
    "R2 = [2209.3, 2209.7]"
   ]
  },
  {
   "cell_type": "markdown",
   "metadata": {},
   "source": [
    "## CR\n"
   ]
  },
  {
   "cell_type": "code",
   "execution_count": 58,
   "metadata": {},
   "outputs": [],
   "source": [
    "v_in = np.array([3.11,3.06,3,2.87,2.8,2.7,2.644,2.619,2.594,2.5937,2.72]) #v\n",
    "v_out = np.array([0.1,0.2925,1.06,1.7,2.094,2.19,2.275,2.462,2.55,2.55,2.1])  #v\n",
    "delta_t = np.array([266,49.6,10,3.5,1.94,1.04,0.74,0.18,0.028,0.01,1.3])*(10**-6)  #us\n",
    "freq = np.array([1,5.07,20,40,60,80,100,200,500,1000,71.7])*(10**3) #kHz\n",
    "delta_phi = (2*np.pi*freq*delta_t)*(180/np.pi)"
   ]
  },
  {
   "cell_type": "code",
   "execution_count": 59,
   "metadata": {},
   "outputs": [
    {
     "data": {
      "text/plain": [
       "array([95.76   , 90.52992, 72.     , 50.4    , 41.904  , 29.952  ,\n",
       "       26.64   , 12.96   ,  5.04   ,  3.6    , 33.5556 ])"
      ]
     },
     "execution_count": 59,
     "metadata": {},
     "output_type": "execute_result"
    }
   ],
   "source": [
    "delta_phi"
   ]
  },
  {
   "cell_type": "code",
   "execution_count": 90,
   "metadata": {},
   "outputs": [
    {
     "data": {
      "text/plain": [
       "array([0.03215434, 0.09558824, 0.35333333, 0.59233449, 0.74785714,\n",
       "       0.81111111, 0.86043873, 0.94005346, 0.98303778, 0.98315148,\n",
       "       0.77205882])"
      ]
     },
     "execution_count": 90,
     "metadata": {},
     "output_type": "execute_result"
    }
   ],
   "source": [
    "v_out/v_in"
   ]
  },
  {
   "cell_type": "code",
   "execution_count": 89,
   "metadata": {},
   "outputs": [
    {
     "data": {
      "image/png": "[encoded data removed]",
      "text/plain": [
       "<Figure size 432x288 with 1 Axes>"
      ]
     },
     "metadata": {
      "needs_background": "light"
     },
     "output_type": "display_data"
    }
   ],
   "source": [
    "plt.xscale(\"log\")\n",
    "#plt.yscale(\"log\")\n",
    "plt.scatter(freq,20*np.log(v_out/v_in), label=\"dati raccolti\")\n",
    "plt.axhline(-3, color=\"red\", label=\"-3dB\")\n",
    "plt.axvline(71050, label=\"$\\\\nu_C$ teorica\", color=\"green\")\n",
    "plt.legend()\n",
    "\n",
    "plt.xlabel(\"$\\\\nu$ (Hz)\")\n",
    "plt.ylabel(\"Attenuazione (dB)\")\n",
    "plt.grid()"
   ]
  },
  {
   "cell_type": "code",
   "execution_count": 86,
   "metadata": {},
   "outputs": [
    {
     "data": {
      "text/plain": [
       "(0.0, 99.0)"
      ]
     },
     "execution_count": 86,
     "metadata": {},
     "output_type": "execute_result"
    },
    {
     "data": {
      "image/png": "[encoded data removed]",
      "text/plain": [
       "<Figure size 432x288 with 1 Axes>"
      ]
     },
     "metadata": {
      "needs_background": "light"
     },
     "output_type": "display_data"
    }
   ],
   "source": [
    "plt.xscale(\"log\")\n",
    "plt.scatter(freq, delta_phi)\n",
    "plt.ylim(0,99)"
   ]
  },
  {
   "cell_type": "markdown",
   "metadata": {},
   "source": [
    "## Diodo\n"
   ]
  },
  {
   "cell_type": "code",
   "execution_count": 18,
   "metadata": {},
   "outputs": [],
   "source": [
    "R_d = 680\n",
    "#V_in_d = np.array([.2,.4,.5,.6,.7,.8,.9,.75])\n",
    "V_D = np.array([201.3,400,478,525,557,579,595,565,-12.2,-58.5,-108.5,-209.12,-407,-609,-802])*(10**(-3))\n",
    "V_r = np.array([0.12,5.73,31.5,79.4,147.3,225,304.5,181.6,2.2,9.7,0,0,0,0,0])*(10**(-3))"
   ]
  },
  {
   "cell_type": "code",
   "execution_count": 19,
   "metadata": {},
   "outputs": [],
   "source": [
    "I = V_r/R_d"
   ]
  },
  {
   "cell_type": "code",
   "execution_count": 21,
   "metadata": {},
   "outputs": [
    {
     "data": {
      "image/png": "[encoded data removed]",
      "text/plain": [
       "<Figure size 432x288 with 1 Axes>"
      ]
     },
     "metadata": {
      "needs_background": "light"
     },
     "output_type": "display_data"
    }
   ],
   "source": [
    "plt.scatter(V_D,I)\n",
    "plt.grid()"
   ]
  }
 ],
 "metadata": {
  "interpreter": {
   "hash": "916dbcbb3f70747c44a77c7bcd40155683ae19c65e1c03b4aa3499c5328201f1"
  },
  "kernelspec": {
   "display_name": "Python 3.9.5 64-bit",
   "name": "python3"
  },
  "language_info": {
   "codemirror_mode": {
    "name": "ipython",
    "version": 3
   },
   "file_extension": ".py",
   "mimetype": "text/x-python",
   "name": "python",
   "nbconvert_exporter": "python",
   "pygments_lexer": "ipython3",
   "version": "3.9.5"
  },
  "orig_nbformat": 4
 },
 "nbformat": 4,
 "nbformat_minor": 2
}
